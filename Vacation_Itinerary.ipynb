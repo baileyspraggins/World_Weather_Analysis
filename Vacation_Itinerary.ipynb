{
 "cells": [
  {
   "cell_type": "code",
   "execution_count": 1,
   "metadata": {},
   "outputs": [],
   "source": [
    "# Import the dependencies.\n",
    "import pandas as pd\n",
    "import gmaps\n",
    "import requests\n",
    "# Import the API key.\n",
    "from config import g_key"
   ]
  },
  {
   "cell_type": "code",
   "execution_count": 2,
   "metadata": {},
   "outputs": [],
   "source": [
    "# Configure gmaps to use your Google API key.\n",
    "gmaps.configure(api_key=g_key)"
   ]
  },
  {
   "cell_type": "code",
   "execution_count": 3,
   "metadata": {},
   "outputs": [
    {
     "data": {
      "text/html": [
       "<div>\n",
       "<style scoped>\n",
       "    .dataframe tbody tr th:only-of-type {\n",
       "        vertical-align: middle;\n",
       "    }\n",
       "\n",
       "    .dataframe tbody tr th {\n",
       "        vertical-align: top;\n",
       "    }\n",
       "\n",
       "    .dataframe thead th {\n",
       "        text-align: right;\n",
       "    }\n",
       "</style>\n",
       "<table border=\"1\" class=\"dataframe\">\n",
       "  <thead>\n",
       "    <tr style=\"text-align: right;\">\n",
       "      <th></th>\n",
       "      <th>City</th>\n",
       "      <th>Country</th>\n",
       "      <th>Current Description</th>\n",
       "      <th>Max Temp</th>\n",
       "      <th>Lat</th>\n",
       "      <th>Lng</th>\n",
       "      <th>Hotel Name</th>\n",
       "    </tr>\n",
       "    <tr>\n",
       "      <th>City_ID</th>\n",
       "      <th></th>\n",
       "      <th></th>\n",
       "      <th></th>\n",
       "      <th></th>\n",
       "      <th></th>\n",
       "      <th></th>\n",
       "      <th></th>\n",
       "    </tr>\n",
       "  </thead>\n",
       "  <tbody>\n",
       "    <tr>\n",
       "      <th>5</th>\n",
       "      <td>Mahebourg</td>\n",
       "      <td>MU</td>\n",
       "      <td>scattered clouds</td>\n",
       "      <td>71.60</td>\n",
       "      <td>-20.41</td>\n",
       "      <td>57.70</td>\n",
       "      <td>Shandrani Beachcomber Resort &amp; Spa</td>\n",
       "    </tr>\n",
       "    <tr>\n",
       "      <th>16</th>\n",
       "      <td>Hilo</td>\n",
       "      <td>US</td>\n",
       "      <td>few clouds</td>\n",
       "      <td>84.20</td>\n",
       "      <td>19.73</td>\n",
       "      <td>-155.09</td>\n",
       "      <td>Hilo Hawaiian Hotel</td>\n",
       "    </tr>\n",
       "    <tr>\n",
       "      <th>17</th>\n",
       "      <td>Bathsheba</td>\n",
       "      <td>BB</td>\n",
       "      <td>scattered clouds</td>\n",
       "      <td>82.40</td>\n",
       "      <td>13.22</td>\n",
       "      <td>-59.52</td>\n",
       "      <td>Atlantis Hotel</td>\n",
       "    </tr>\n",
       "    <tr>\n",
       "      <th>22</th>\n",
       "      <td>Butaritari</td>\n",
       "      <td>KI</td>\n",
       "      <td>overcast clouds</td>\n",
       "      <td>82.69</td>\n",
       "      <td>3.07</td>\n",
       "      <td>172.79</td>\n",
       "      <td>Isles Sunset Lodge</td>\n",
       "    </tr>\n",
       "    <tr>\n",
       "      <th>24</th>\n",
       "      <td>Avarua</td>\n",
       "      <td>CK</td>\n",
       "      <td>scattered clouds</td>\n",
       "      <td>82.40</td>\n",
       "      <td>-21.21</td>\n",
       "      <td>-159.78</td>\n",
       "      <td>Paradise Inn</td>\n",
       "    </tr>\n",
       "  </tbody>\n",
       "</table>\n",
       "</div>"
      ],
      "text/plain": [
       "               City Country Current Description  Max Temp    Lat     Lng  \\\n",
       "City_ID                                                                    \n",
       "5         Mahebourg      MU    scattered clouds     71.60 -20.41   57.70   \n",
       "16             Hilo      US          few clouds     84.20  19.73 -155.09   \n",
       "17        Bathsheba      BB    scattered clouds     82.40  13.22  -59.52   \n",
       "22       Butaritari      KI     overcast clouds     82.69   3.07  172.79   \n",
       "24           Avarua      CK    scattered clouds     82.40 -21.21 -159.78   \n",
       "\n",
       "                                 Hotel Name  \n",
       "City_ID                                      \n",
       "5        Shandrani Beachcomber Resort & Spa  \n",
       "16                      Hilo Hawaiian Hotel  \n",
       "17                           Atlantis Hotel  \n",
       "22                       Isles Sunset Lodge  \n",
       "24                             Paradise Inn  "
      ]
     },
     "execution_count": 3,
     "metadata": {},
     "output_type": "execute_result"
    }
   ],
   "source": [
    "# Store the CSV created in part one into a DataFrame.\n",
    "vacation_df = pd.read_csv(\"weather_data/WeatherPy_vacation.csv\")\n",
    "vacation_df = vacation_df.set_index('City_ID')\n",
    "vacation_df.head()"
   ]
  },
  {
   "cell_type": "code",
   "execution_count": 4,
   "metadata": {},
   "outputs": [],
   "source": [
    "#Create DataFrames for the cities wanting to travel too\n",
    "luorong_df = vacation_df.loc[(vacation_df[\"City\"] == \"Luorong\")]\n",
    "longhua_df = vacation_df.loc[(vacation_df[\"City\"] == \"Longhua\")]\n",
    "huilong_df = vacation_df.loc[(vacation_df[\"City\"] == \"Huilong\")]\n",
    "wanning_df = vacation_df.loc[(vacation_df[\"City\"] == \"Wanning\")]"
   ]
  },
  {
   "cell_type": "code",
   "execution_count": 5,
   "metadata": {},
   "outputs": [
    {
     "data": {
      "text/html": [
       "<div>\n",
       "<style scoped>\n",
       "    .dataframe tbody tr th:only-of-type {\n",
       "        vertical-align: middle;\n",
       "    }\n",
       "\n",
       "    .dataframe tbody tr th {\n",
       "        vertical-align: top;\n",
       "    }\n",
       "\n",
       "    .dataframe thead th {\n",
       "        text-align: right;\n",
       "    }\n",
       "</style>\n",
       "<table border=\"1\" class=\"dataframe\">\n",
       "  <thead>\n",
       "    <tr style=\"text-align: right;\">\n",
       "      <th></th>\n",
       "      <th>City</th>\n",
       "      <th>Country</th>\n",
       "      <th>Current Description</th>\n",
       "      <th>Max Temp</th>\n",
       "      <th>Lat</th>\n",
       "      <th>Lng</th>\n",
       "      <th>Hotel Name</th>\n",
       "    </tr>\n",
       "    <tr>\n",
       "      <th>City_ID</th>\n",
       "      <th></th>\n",
       "      <th></th>\n",
       "      <th></th>\n",
       "      <th></th>\n",
       "      <th></th>\n",
       "      <th></th>\n",
       "      <th></th>\n",
       "    </tr>\n",
       "  </thead>\n",
       "  <tbody>\n",
       "    <tr>\n",
       "      <th>41</th>\n",
       "      <td>Luorong</td>\n",
       "      <td>CN</td>\n",
       "      <td>light rain</td>\n",
       "      <td>79.16</td>\n",
       "      <td>24.41</td>\n",
       "      <td>109.61</td>\n",
       "      <td>荣立大酒店</td>\n",
       "    </tr>\n",
       "  </tbody>\n",
       "</table>\n",
       "</div>"
      ],
      "text/plain": [
       "            City Country Current Description  Max Temp    Lat     Lng  \\\n",
       "City_ID                                                                 \n",
       "41       Luorong      CN          light rain     79.16  24.41  109.61   \n",
       "\n",
       "        Hotel Name  \n",
       "City_ID             \n",
       "41           荣立大酒店  "
      ]
     },
     "execution_count": 5,
     "metadata": {},
     "output_type": "execute_result"
    }
   ],
   "source": [
    "luorong_df"
   ]
  },
  {
   "cell_type": "code",
   "execution_count": 6,
   "metadata": {},
   "outputs": [],
   "source": [
    "#Get the lat and lng pair for each city in a tuple\n",
    "luorong_coord = ((float(luorong_df[\"Lat\"])), (float(luorong_df[\"Lng\"])))\n",
    "longhua_coord = ((float(longhua_df[\"Lat\"])), (float(longhua_df[\"Lng\"])))\n",
    "huilong_coord = ((float(huilong_df[\"Lat\"])), (float(huilong_df[\"Lng\"])))\n",
    "wanning_coord = ((float(wanning_df[\"Lat\"])), (float(wanning_df[\"Lng\"])))"
   ]
  },
  {
   "cell_type": "code",
   "execution_count": 7,
   "metadata": {},
   "outputs": [
    {
     "data": {
      "application/vnd.jupyter.widget-view+json": {
       "model_id": "49d12e13c98045448faab45661dfd83c",
       "version_major": 2,
       "version_minor": 0
      },
      "text/plain": [
       "Figure(layout=FigureLayout(height='420px'))"
      ]
     },
     "metadata": {},
     "output_type": "display_data"
    }
   ],
   "source": [
    "#Plot the direction path\n",
    "fig = gmaps.figure()\n",
    "vacation_path = gmaps.directions_layer(luorong_coord, wanning_coord, \n",
    "                                       waypoints=[huilong_coord, longhua_coord], travel_mode='DRIVING')\n",
    "fig.add_layer(vacation_path)\n",
    "fig"
   ]
  },
  {
   "cell_type": "code",
   "execution_count": 8,
   "metadata": {},
   "outputs": [
    {
     "data": {
      "text/html": [
       "<div>\n",
       "<style scoped>\n",
       "    .dataframe tbody tr th:only-of-type {\n",
       "        vertical-align: middle;\n",
       "    }\n",
       "\n",
       "    .dataframe tbody tr th {\n",
       "        vertical-align: top;\n",
       "    }\n",
       "\n",
       "    .dataframe thead th {\n",
       "        text-align: right;\n",
       "    }\n",
       "</style>\n",
       "<table border=\"1\" class=\"dataframe\">\n",
       "  <thead>\n",
       "    <tr style=\"text-align: right;\">\n",
       "      <th></th>\n",
       "      <th>City</th>\n",
       "      <th>Country</th>\n",
       "      <th>Current Description</th>\n",
       "      <th>Max Temp</th>\n",
       "      <th>Lat</th>\n",
       "      <th>Lng</th>\n",
       "      <th>Hotel Name</th>\n",
       "    </tr>\n",
       "    <tr>\n",
       "      <th>City_ID</th>\n",
       "      <th></th>\n",
       "      <th></th>\n",
       "      <th></th>\n",
       "      <th></th>\n",
       "      <th></th>\n",
       "      <th></th>\n",
       "      <th></th>\n",
       "    </tr>\n",
       "  </thead>\n",
       "  <tbody>\n",
       "    <tr>\n",
       "      <th>41</th>\n",
       "      <td>Luorong</td>\n",
       "      <td>CN</td>\n",
       "      <td>light rain</td>\n",
       "      <td>79.16</td>\n",
       "      <td>24.41</td>\n",
       "      <td>109.61</td>\n",
       "      <td>荣立大酒店</td>\n",
       "    </tr>\n",
       "    <tr>\n",
       "      <th>188</th>\n",
       "      <td>Huilong</td>\n",
       "      <td>CN</td>\n",
       "      <td>broken clouds</td>\n",
       "      <td>70.00</td>\n",
       "      <td>31.81</td>\n",
       "      <td>121.66</td>\n",
       "      <td>Hilton Garden Inn Qidong</td>\n",
       "    </tr>\n",
       "    <tr>\n",
       "      <th>439</th>\n",
       "      <td>Longhua</td>\n",
       "      <td>CN</td>\n",
       "      <td>overcast clouds</td>\n",
       "      <td>78.91</td>\n",
       "      <td>23.61</td>\n",
       "      <td>114.19</td>\n",
       "      <td>Huadu Hotel</td>\n",
       "    </tr>\n",
       "    <tr>\n",
       "      <th>134</th>\n",
       "      <td>Wanning</td>\n",
       "      <td>CN</td>\n",
       "      <td>overcast clouds</td>\n",
       "      <td>79.99</td>\n",
       "      <td>18.80</td>\n",
       "      <td>110.40</td>\n",
       "      <td>Paradise Hotel</td>\n",
       "    </tr>\n",
       "  </tbody>\n",
       "</table>\n",
       "</div>"
      ],
      "text/plain": [
       "            City Country Current Description  Max Temp    Lat     Lng  \\\n",
       "City_ID                                                                 \n",
       "41       Luorong      CN          light rain     79.16  24.41  109.61   \n",
       "188      Huilong      CN       broken clouds     70.00  31.81  121.66   \n",
       "439      Longhua      CN     overcast clouds     78.91  23.61  114.19   \n",
       "134      Wanning      CN     overcast clouds     79.99  18.80  110.40   \n",
       "\n",
       "                       Hotel Name  \n",
       "City_ID                            \n",
       "41                          荣立大酒店  \n",
       "188      Hilton Garden Inn Qidong  \n",
       "439                   Huadu Hotel  \n",
       "134                Paradise Hotel  "
      ]
     },
     "execution_count": 8,
     "metadata": {},
     "output_type": "execute_result"
    }
   ],
   "source": [
    "#Use concat() function to create a new DataFrame that uses all 4 cities\n",
    "vacation_itinerary_df = pd.concat([luorong_df, huilong_df, longhua_df, wanning_df])\n",
    "vacation_itinerary_df"
   ]
  },
  {
   "cell_type": "code",
   "execution_count": 9,
   "metadata": {},
   "outputs": [
    {
     "data": {
      "application/vnd.jupyter.widget-view+json": {
       "model_id": "db0ab6703e3849909fd9267fbaf09dbf",
       "version_major": 2,
       "version_minor": 0
      },
      "text/plain": [
       "Figure(layout=FigureLayout(height='420px'))"
      ]
     },
     "metadata": {},
     "output_type": "display_data"
    }
   ],
   "source": [
    "info_box_template = \"\"\"\n",
    "<dl>\n",
    "<dt>Hotel Name</dt><dd>{Hotel Name}</dd>\n",
    "<dt>City</dt><dd>{City}</dd>\n",
    "<dt>Country</dt><dd>{Country}</dd>\n",
    "<dt>Current Weather</dt><dd>{Current Description} & {Max Temp} °F</dd>\n",
    "</dl>\n",
    "\"\"\"\n",
    "# Store the DataFrame Row.\n",
    "hotel_info = [info_box_template.format(**row) for index, row in vacation_itinerary_df.iterrows()]\n",
    "\n",
    "# Add a pop-up marker for each city.\n",
    "locations = vacation_itinerary_df[[\"Lat\", \"Lng\"]]\n",
    "fig = gmaps.figure(center=(30.0, 31.0), zoom_level=1.5)\n",
    "vacation_path = gmaps.directions_layer(luorong_coord, wanning_coord, \n",
    "                                       waypoints=[huilong_coord, longhua_coord], travel_mode='DRIVING', show_markers=False)\n",
    "marker_layer = gmaps.marker_layer(locations, info_box_content=hotel_info)\n",
    "fig.add_layer(marker_layer)\n",
    "fig.add_layer(vacation_path)\n",
    "\n",
    "# Call the figure to plot the data.\n",
    "fig"
   ]
  },
  {
   "cell_type": "code",
   "execution_count": null,
   "metadata": {},
   "outputs": [],
   "source": []
  }
 ],
 "metadata": {
  "kernelspec": {
   "display_name": "PythonData",
   "language": "python",
   "name": "pythondata"
  },
  "language_info": {
   "codemirror_mode": {
    "name": "ipython",
    "version": 3
   },
   "file_extension": ".py",
   "mimetype": "text/x-python",
   "name": "python",
   "nbconvert_exporter": "python",
   "pygments_lexer": "ipython3",
   "version": "3.7.6"
  }
 },
 "nbformat": 4,
 "nbformat_minor": 4
}
